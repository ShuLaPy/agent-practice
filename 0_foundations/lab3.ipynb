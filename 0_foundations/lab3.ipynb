{
 "cells": [
  {
   "cell_type": "markdown",
   "id": "0acc3bab",
   "metadata": {},
   "source": [
    "# A multi-LLM pipeline. \n",
    "\n",
    "In this lab, I will evaluate DeepSeek answers using Gemini. "
   ]
  },
  {
   "cell_type": "code",
   "execution_count": 1,
   "id": "0fa1d59c",
   "metadata": {},
   "outputs": [],
   "source": [
    "# you need to run the lab2 before this\n",
    "\n",
    "%store -r name\n",
    "%store -r summary\n",
    "%store -r resume_md\n",
    "%store -r system_prompt"
   ]
  },
  {
   "cell_type": "code",
   "execution_count": 2,
   "id": "c983e911",
   "metadata": {},
   "outputs": [
    {
     "name": "stderr",
     "output_type": "stream",
     "text": [
      "/Users/shubhamlad/Desktop/Shubham/AgentPractice/Courses/agent-practice/.venv/lib/python3.12/site-packages/tqdm/auto.py:21: TqdmWarning: IProgress not found. Please update jupyter and ipywidgets. See https://ipywidgets.readthedocs.io/en/stable/user_install.html\n",
      "  from .autonotebook import tqdm as notebook_tqdm\n"
     ]
    }
   ],
   "source": [
    "import os\n",
    "from openai import OpenAI\n",
    "from dotenv import load_dotenv\n",
    "import gradio as gr"
   ]
  },
  {
   "cell_type": "code",
   "execution_count": 3,
   "id": "643faf9e",
   "metadata": {},
   "outputs": [
    {
     "data": {
      "text/plain": [
       "True"
      ]
     },
     "execution_count": 3,
     "metadata": {},
     "output_type": "execute_result"
    }
   ],
   "source": [
    "load_dotenv(override=True)"
   ]
  },
  {
   "cell_type": "code",
   "execution_count": 4,
   "id": "34fd05a8",
   "metadata": {},
   "outputs": [],
   "source": [
    "# create a Pydantic model for the Evaluation\n",
    "\n",
    "from pydantic import BaseModel\n",
    "\n",
    "class Evaluation(BaseModel):\n",
    "    is_acceptable: bool\n",
    "    feedback: str"
   ]
  },
  {
   "cell_type": "code",
   "execution_count": 5,
   "id": "4d66dd01",
   "metadata": {},
   "outputs": [],
   "source": [
    "\n",
    "evaluator_system_prompt = f\"You are an evaluator that decides whether a response to a question is acceptable. \\\n",
    "You are provided with a conversation between a User and an Agent. Your task is to decide whether the Agent's latest response is acceptable quality. \\\n",
    "The Agent is playing the role of {name} and is representing {name} on their website. \\\n",
    "The Agent has been instructed to be professional and engaging, as if talking to a potential client or future employer who came across the website. \\\n",
    "The Agent has been provided with context on {name} in the form of their summary and Resume details. Here's the information:\"\n",
    "\n",
    "evaluator_system_prompt += f\"\\n\\n## Summary:\\n{summary}\\n\\n## Resume:\\n{resume_md}\\n\\n\"\n",
    "evaluator_system_prompt += f\"With this context, please evaluate the latest response, replying with whether the response is acceptable and your feedback.\""
   ]
  },
  {
   "cell_type": "code",
   "execution_count": 6,
   "id": "31f4dc00",
   "metadata": {},
   "outputs": [
    {
     "data": {
      "text/plain": [
       "\"You are an evaluator that decides whether a response to a question is acceptable. You are provided with a conversation between a User and an Agent. Your task is to decide whether the Agent's latest response is acceptable quality. The Agent is playing the role of Shubham Lad and is representing Shubham Lad on their website. The Agent has been instructed to be professional and engaging, as if talking to a potential client or future employer who came across the website. The Agent has been provided with context on Shubham Lad in the form of their summary and Resume details. Here's the information:\\n\\n## Summary:\\nWith extensive experience in both product and service-based companies as a skilled Software Engineer, I thrive in fast-paced environments where results matter. My expertise in startup environments has given me a deep understanding of what it takes to deliver innovative solutions that meet client needs.\\n\\nI have a proven track record of optimizing complex backend systems and delivering scalable, high-performance solutions. Working closely with CTOs to drive revenue and company growth has been an integral part of my role.\\n\\nMy proficiency in AWS, NodeJS, ReactJS and GraphQL, coupled with my ability to mentor and lead teams, has enabled me to deliver exceptional results and exceed expectations.\\n\\nWhether it’s improving page performance, handling complex deployments on AWS, or building highly scalable and available APIs, I am committed to delivering exceptional results. My technical expertise and ability to lead technical discussions have enabled me to successfully deliver results that exceed client expectations.\\n\\nMy skill set is diverse, including (but not limited to 😎) areas such as System Design, Data Structure, AWS, NodeJS, GraphQL, ReactJS, and ElasticSearch. I have extensive experience in managing and deploying projects on AWS, and I enjoy mentoring junior developers. My dedication to delivering exceptional results makes me a valuable asset to any team.\\n\\nFurthermore, I am passionate about Machine Learning and continuously expanding my knowledge in this field. I believe that my enthusiasm for learning and keeping up-to-date with new technologies will benefit any organization I work with.\\n\\n## Resume:\\n# Shubham Lad\\n\\n2/826 Shelke Lane, Jay Bhavani, Gaonbhag, Ichalkaranji, Maharashtra 416115\\n� 7249148567 � [[shubhamlad1001@][g][mail.com]](mailto:shubhamlad1001@gmail.com) � [[linkedin.com][/][in][/][shubhamlad]](https://linkedin.com/in/shubhamlad) � [[htt][p][s:][//][shubhamlad.in]](https://shubhamlad.in)\\n\\n\\nTechnical Skills\\n\\n\\n**Languages** : TypeScript, Python, C#, Go.\\n**Technologies/Frameworks** : AWS, NodeJS, GraphQL, Serverless, MongoDB, MySQL, PostgreSQL, ElasticSearch,\\nDocker, Linux, React, Angular, React-Native, Jira, Git, Agile, AWS services (Kinesis, Glue, Redshift, AppSync, Lambda,\\nCodebuild, ECS, RDS\\n\\n\\nExperience\\n\\n\\n**Softway** September 2022 – present\\n_Software Engineer II_ _Bengaluru, Karnataka_\\n\\nProject: Data-Intensive Platform (Backend Engineer)\\n\\n\\n_•_\\nUpgraded backend infrastructure from Node.js 14 to Node.js 20, implementing performance improvements that\\nincreased application efficiency.\\n\\n\\n_•_\\nEngineered backend solutions using Node.js and Python, leveraging Serverless Lambda and GraphQL to handle\\ncomplex data processing and queries.\\n\\n\\n_•_\\nManaged AWS RDS Aurora databases, handling millions of rows and ensuring high availability and performance.\\n\\n\\n_•_\\nWorked with AWS AppSync and API Gateway to implement robust GraphQL endpoints, enhancing data\\naccessibility and system reliability.\\n\\n\\n_•_\\nDeveloped and maintained an ETL data pipeline processing terabytes of data using AWS Kinesis, Glue, S3,\\nRedshift, ECS, and Lambda, ensuring efficient data flow and storage.\\n\\n\\n_•_\\nDesigned and implemented algorithms for data processing from data warehouses, generating reports for analytical\\n\\npurposes.\\n\\n\\n_•_\\nSet up and maintained infrastructure for development environments, including AWS CodePipeline, RDS databases,\\nand VPC configurations, streamlining the development process.\\n\\n\\n_•_\\nContributed to DevOps initiatives, introducing best practices that improved deployment times and system stability.\\n\\n\\n_•_\\nModified and managed open-source plugins for Serverless framework to meet project-specific requirements,\\nmaintaining internal tools for ongoing project needs.\\n\\n\\n_•_\\nReduced deployment time from 30 minutes to 8 minutes by optimizing Webpack bundling, parallelizing tasks, and\\nrefining the AWS CodeBuild pipeline. Utilized advanced techniques such as tree shaking, code splitting, and\\ncustom build scripts to streamline the build process and improve overall deployment efficiency.\\n\\n\\nProject: Educational Platform (Frontend Developer)\\n\\n\\n_•_\\nDeveloped and maintained frontend features using Angular, enhancing user experience and application\\nperformance.\\n\\n\\n_•_\\nLed MongoDB database optimization tasks, including schema restructuring and query performance enhancements,\\nresulting in improved data retrieval times by 30%.\\n\\n\\n_•_\\nCollaborated on backend API development using .NET, delivering critical functionalities and ensuring seamless\\ndata flow between frontend and backend systems.\\n\\n\\n**Quoality** October 2020 – September 2022\\n_Full-Stack Developer_ _Gurugram, Haryana_\\n\\n\\n_•_\\nLed the development of a regional airline booking system, overseeing requirement gathering, analysis, design,\\ndevelopment, and testing.\\n\\n\\n_•_\\nOptimized ElasticSearch indexing, reducing total shards by 90% and increasing overall performance by 50%.\\n\\n\\n_•_\\nRefactored code and introduced LazyLoad to improve web application page performance by 30%.\\n\\n\\n_•_\\nMigrated production data from ElasticSearch DB on GCP to OpenSearch on AWS, ensuring seamless transition.\\n\\n\\n_•_\\nDeveloped Access Control Lists (ACL) Module for our product to enhance security and user permissions\\nmanagement.\\n\\n\\n_•_\\nCreated the backend for a hostel chain CMS from scratch using GraphQL, demonstrating full project ownership.\\n\\n\\n_•_\\nEngineered Amadeus and Sabre connectors for a flight booking agency utilizing TypeScript.\\n\\n\\n_•_\\nDesigned and implemented a scalable, secure backend and multi-layout frontend for an online education platform.\\n\\n\\n_•_\\nBuilt the backend for a sports event organizing community app, integrating multiple functionalities.\\n\\n\\n_•_ Integrated various payment gateways, ensuring smooth and secure transaction processes.\\n\\n\\n_•_\\nDeployed projects to production on AWS, including database replication, load balancing, setting up VPC,\\navailability zones, NAT, VPN, and CI/CD pipelines.\\n\\n\\n_•_\\nPerformed DevOps role and conducted code reviews for other developers.\\n\\n\\n_•_\\nMentored junior developers, fostering their growth and enhancing team capabilities.\\n\\n\\n_•_\\nLeveraged Knowledge in AWS, TypeScript, SOAP, ElasticSearch, Docker, GraphQL, NextJS, Docker, Postman.\\n\\n\\n**AYN Infotech Ltd.** March 2020 – October 2020\\n\\n_Software Developer_ _Pune, Maharashtra_\\n\\n\\n_•_\\nDeveloped the ”Know Your Customer” (KYC) application, a secure and scalable banking domain product, resulting\\nin improved customer verification processes and enhanced security measures.\\n\\n\\n_•_\\nCreated a Proof of Concept (POC) for a doctor appointment app using WebRTC and Mediaserver within 2 days,\\nintegrating real-time chat and file-sharing features, demonstrating rapid prototyping and agile development skills.\\n\\n\\n_•_\\nManaged and executed all internal company deployments on Digital Ocean, ensuring high availability and reliability\\nof services.\\n\\n\\n_•_\\nUtilized a diverse tech stack, including NodeJS, JavaScript, REST APIs, MongoDB, PostgreSQL, React, Nginx,\\nMVC, WebRTC, and WebSocket, to deliver robust and efficient solutions.\\n\\n\\nProjects\\n\\n\\n**OvenJoy - Web Framework for Bun** _| TypeScript, BunJS_\\n\\n_•_ Developed OvenJoy, a lightweight and flexible web framework for Bun, implementing powerful routing and\\nmiddleware capabilities similar to ExpressJS\\n\\n\\n_•_\\nImplemented an advanced routing algorithm using a Radix tree router for efficient and optimized route matching,\\nenhancing the performance of web applications.\\n\\n\\n_•_\\nConducted in-depth codebase analysis of ExpressJS and Fastify to understand their architecture, design patterns,\\nand performance optimizations.\\n\\n\\n_•_\\nEngineered an extensible middleware system, enabling easy integration of third-party libraries and custom\\nmiddleware functions.\\n\\n\\nAchievements / Other Qualities\\n\\n\\n_•_ Achieved AWS Certified Solutions Architect – Associate, demonstrating expertise in designing and deploying\\nscalable systems on AWS.\\n\\n\\n_•_\\nConsistently recognized in Team Spotlight every month for outstanding performance, proactive initiatives, and\\ntimely delivery of sprints.\\n\\n\\n_•_ Demonstrated ability to quickly learn and adapt to new technologies and processes, showing strong initiative and\\nownership in all assigned tasks.\\n\\n\\n_•_\\nProven problem solver with a track record of identifying and resolving complex issues efficiently and effectively.\\n\\n\\nEducation\\n\\n\\n**Shivaji University** Sep. 2016 – Oct 2019\\n_Bachelor of Engineering (Mech.)_ _Ichalkaranji, Maharashtra_\\n\\n\\n\\n\\nWith this context, please evaluate the latest response, replying with whether the response is acceptable and your feedback.\""
      ]
     },
     "execution_count": 6,
     "metadata": {},
     "output_type": "execute_result"
    }
   ],
   "source": [
    "evaluator_system_prompt"
   ]
  },
  {
   "cell_type": "code",
   "execution_count": 7,
   "id": "bf4457ab",
   "metadata": {},
   "outputs": [],
   "source": [
    "def evaluator_user_prompt(reply, message, history):\n",
    "    user_prompt = f\"Here's the conversation between the User and the Agent: \\n\\n{history}\\n\\n\"\n",
    "    user_prompt += f\"Here's the latest message from the User: \\n\\n{message}\\n\\n\"\n",
    "    user_prompt += f\"Here's the latest response from the Agent: \\n\\n{reply}\\n\\n\"\n",
    "    user_prompt += \"Please evaluate the response, replying with whether it is acceptable and your feedback.\"\n",
    "    return user_prompt"
   ]
  },
  {
   "cell_type": "code",
   "execution_count": 8,
   "id": "2227c251",
   "metadata": {},
   "outputs": [],
   "source": [
    "gemini_client = OpenAI(\n",
    "    api_key=os.environ.get(\"GEMINI_API_KEY\"),\n",
    "    base_url=\"https://generativelanguage.googleapis.com/v1beta/openai\"\n",
    ")"
   ]
  },
  {
   "cell_type": "code",
   "execution_count": 9,
   "id": "47b66d0f",
   "metadata": {},
   "outputs": [],
   "source": [
    "# Here we will use the parse method so that we will get the responses in the predefined structure\n",
    "\n",
    "def evaluate(reply, message, history):\n",
    "    user_prompt = evaluator_user_prompt(reply, message, history)\n",
    "    messages = [{\"role\": \"system\", \"content\": evaluator_system_prompt}] + [{\"role\": \"user\", \"content\": user_prompt}]\n",
    "    response = gemini_client.beta.chat.completions.parse(\n",
    "        model=\"gemini-2.0-flash\",\n",
    "        messages=messages,\n",
    "        response_format=Evaluation\n",
    "    )\n",
    "    evaluation = response.choices[0].message.parsed\n",
    "    return evaluation"
   ]
  },
  {
   "cell_type": "code",
   "execution_count": 10,
   "id": "bddf1e6c",
   "metadata": {},
   "outputs": [],
   "source": [
    "deepseek_client = OpenAI(\n",
    "    api_key=os.environ.get(\"OPENROUTER_API_KEY\"),\n",
    "    base_url=\"https://openrouter.ai/api/v1\"\n",
    ")\n",
    "model_name = \"deepseek/deepseek-chat-v3.1:free\""
   ]
  },
  {
   "cell_type": "code",
   "execution_count": 27,
   "id": "a0f31829",
   "metadata": {},
   "outputs": [],
   "source": [
    "messages = [{\"role\": \"system\", \"content\": system_prompt}] + [{\"role\": \"user\", \"content\": \"do you hold any patent?\"}]\n",
    "response = deepseek_client.chat.completions.create(\n",
    "    model=model_name,\n",
    "    messages=messages,\n",
    ")\n",
    "reply = response.choices[0].message.content"
   ]
  },
  {
   "cell_type": "code",
   "execution_count": 28,
   "id": "6fb5e345",
   "metadata": {},
   "outputs": [
    {
     "data": {
      "text/plain": [
       "\"No, I don't hold any patents. My work has primarily focused on delivering high-quality software solutions and optimizing systems for performance and scalability, rather than pursuing patents. However, I have successfully led and contributed to several projects that required innovative solutions, particularly in the areas of data processing, cloud infrastructure, and full-stack development.\\n\\nIf you're interested in a specific area where you think a patent might be relevant, I'd be happy to discuss the technical challenges and solutions we implemented!\""
      ]
     },
     "execution_count": 28,
     "metadata": {},
     "output_type": "execute_result"
    }
   ],
   "source": [
    "reply"
   ]
  },
  {
   "cell_type": "code",
   "execution_count": 29,
   "id": "8b902c6f",
   "metadata": {},
   "outputs": [
    {
     "data": {
      "text/plain": [
       "Evaluation(is_acceptable=True, feedback=\"The response is great. It accurately answers the question and then provides additional context as to why Shubham doesn't have any patents, while still highlighting his innovative skills and contributions to projects. It is also professional and engaging as requested.\")"
      ]
     },
     "execution_count": 29,
     "metadata": {},
     "output_type": "execute_result"
    }
   ],
   "source": [
    "evaluate(reply, messages[-1][\"content\"], messages[:1])"
   ]
  },
  {
   "cell_type": "code",
   "execution_count": 11,
   "id": "e300ea42",
   "metadata": {},
   "outputs": [],
   "source": [
    "def rerun(reply, message, history, feedback):\n",
    "    updated_system_prompt = system_prompt + f\"\\n\\n## Previous answer rejected\\nYou just tried to reply, but the qualitycontrol rejected your reply\\n\"\n",
    "    updated_system_prompt += f\"## Your attempted answer:\\n{reply}\\n\\n\"\n",
    "    updated_system_prompt += f\"## Reason for rejection:\\n{feedback}\\n\\n\"\n",
    "    messages = [{\"role\": \"system\", \"content\": updated_system_prompt}] + history + [{\"role\": \"user\", \"content\": message}]\n",
    "    response = deepseek_client.chat.completions.create(\n",
    "        model=model_name,\n",
    "        messages=messages\n",
    "    )\n",
    "    new_reply = response.choices[0].message.content\n",
    "    return new_reply"
   ]
  },
  {
   "cell_type": "code",
   "execution_count": 12,
   "id": "c6fed73a",
   "metadata": {},
   "outputs": [],
   "source": [
    "def chat(message, history):\n",
    "    if \"patent\" in message:\n",
    "        system = system_prompt + \"\\nEverything in your reply needs to be in pig latin -\\\n",
    "            it is mandatory that you respond only and entirely in pig latin\"\n",
    "    else:\n",
    "        system = system_prompt\n",
    "\n",
    "    messages = [{\"role\": \"system\", \"content\": system}] + history + [{\"role\": \"user\", \"content\": message}]\n",
    "    response = deepseek_client.chat.completions.create(model=model_name, messages=messages)\n",
    "    reply =response.choices[0].message.content\n",
    "\n",
    "    evaluation = evaluate(reply, message, history)\n",
    "    \n",
    "    if evaluation.is_acceptable:\n",
    "        print(\"Passed evaluation - returning reply\")\n",
    "    else:\n",
    "        print(\"Failed evaluation - retrying\")\n",
    "        print(evaluation.feedback)\n",
    "        print(reply)\n",
    "        reply = rerun(reply, message, history, evaluation.feedback)       \n",
    "    return reply"
   ]
  },
  {
   "cell_type": "code",
   "execution_count": null,
   "id": "406c0670",
   "metadata": {},
   "outputs": [
    {
     "name": "stdout",
     "output_type": "stream",
     "text": [
      "* Running on local URL:  http://127.0.0.1:7860\n",
      "* To create a public link, set `share=True` in `launch()`.\n"
     ]
    },
    {
     "data": {
      "text/html": [
       "<div><iframe src=\"http://127.0.0.1:7860/\" width=\"100%\" height=\"500\" allow=\"autoplay; camera; microphone; clipboard-read; clipboard-write;\" frameborder=\"0\" allowfullscreen></iframe></div>"
      ],
      "text/plain": [
       "<IPython.core.display.HTML object>"
      ]
     },
     "metadata": {},
     "output_type": "display_data"
    },
    {
     "data": {
      "text/plain": []
     },
     "execution_count": 13,
     "metadata": {},
     "output_type": "execute_result"
    },
    {
     "name": "stdout",
     "output_type": "stream",
     "text": [
      "Passed evaluation - returning reply\n",
      "Failed evaluation - retrying\n",
      "The agent's response is not acceptable. It seems to be gibberish and doesn't answer the user's question about patents. A professional response should directly address the query or politely state that the information is not available.\n",
      "Otay, Iway avehay onay atentpay.\n"
     ]
    }
   ],
   "source": [
    "gr.ChatInterface(chat, type=\"messages\").launch()"
   ]
  },
  {
   "cell_type": "code",
   "execution_count": null,
   "id": "27f155d8",
   "metadata": {},
   "outputs": [],
   "source": []
  }
 ],
 "metadata": {
  "kernelspec": {
   "display_name": "agent-practice",
   "language": "python",
   "name": "python3"
  },
  "language_info": {
   "codemirror_mode": {
    "name": "ipython",
    "version": 3
   },
   "file_extension": ".py",
   "mimetype": "text/x-python",
   "name": "python",
   "nbconvert_exporter": "python",
   "pygments_lexer": "ipython3",
   "version": "3.12.7"
  }
 },
 "nbformat": 4,
 "nbformat_minor": 5
}
