{
 "cells": [
  {
   "cell_type": "markdown",
   "id": "0afb2f4a",
   "metadata": {},
   "source": [
    "# Interact without Framework"
   ]
  },
  {
   "cell_type": "markdown",
   "id": "4332f30a",
   "metadata": {},
   "source": [
    "In this lab, I'll be working directly with various Large Language Models (LLMs) without using any frameworks. My goal is to understand how these frameworks operate internally, identify their limitations, and learn what happens behind the scenes. "
   ]
  },
  {
   "cell_type": "code",
   "execution_count": 7,
   "id": "3fdd236e",
   "metadata": {},
   "outputs": [],
   "source": [
    "from dotenv import load_dotenv\n",
    "from openai import OpenAI\n",
    "import pymupdf4llm\n",
    "import gradio as gr\n",
    "from IPython.display import display, Markdown"
   ]
  },
  {
   "cell_type": "code",
   "execution_count": 2,
   "id": "74de7de1",
   "metadata": {},
   "outputs": [
    {
     "data": {
      "text/plain": [
       "True"
      ]
     },
     "execution_count": 2,
     "metadata": {},
     "output_type": "execute_result"
    }
   ],
   "source": [
    "load_dotenv(override=True)"
   ]
  },
  {
   "cell_type": "code",
   "execution_count": 3,
   "id": "65273285",
   "metadata": {},
   "outputs": [],
   "source": [
    "openai_client = OpenAI()"
   ]
  },
  {
   "cell_type": "code",
   "execution_count": 5,
   "id": "57412226",
   "metadata": {},
   "outputs": [],
   "source": [
    "resume_md = pymupdf4llm.to_markdown(\"./me/Shubham_Lad_Software_Engineer_II.pdf\")"
   ]
  },
  {
   "cell_type": "code",
   "execution_count": 8,
   "id": "f960dcd0",
   "metadata": {},
   "outputs": [
    {
     "data": {
      "text/markdown": [
       "# Shubham Lad\n",
       "\n",
       "2/826 Shelke Lane, Jay Bhavani, Gaonbhag, Ichalkaranji, Maharashtra 416115\n",
       "� 7249148567 � [[shubhamlad1001@][g][mail.com]](mailto:shubhamlad1001@gmail.com) � [[linkedin.com][/][in][/][shubhamlad]](https://linkedin.com/in/shubhamlad) � [[htt][p][s:][//][shubhamlad.in]](https://shubhamlad.in)\n",
       "\n",
       "\n",
       "Technical Skills\n",
       "\n",
       "\n",
       "**Languages** : TypeScript, Python, C#, Go.\n",
       "**Technologies/Frameworks** : AWS, NodeJS, GraphQL, Serverless, MongoDB, MySQL, PostgreSQL, ElasticSearch,\n",
       "Docker, Linux, React, Angular, React-Native, Jira, Git, Agile, AWS services (Kinesis, Glue, Redshift, AppSync, Lambda,\n",
       "Codebuild, ECS, RDS\n",
       "\n",
       "\n",
       "Experience\n",
       "\n",
       "\n",
       "**Softway** September 2022 – present\n",
       "_Software Engineer II_ _Bengaluru, Karnataka_\n",
       "\n",
       "Project: Data-Intensive Platform (Backend Engineer)\n",
       "\n",
       "\n",
       "_•_\n",
       "Upgraded backend infrastructure from Node.js 14 to Node.js 20, implementing performance improvements that\n",
       "increased application efficiency.\n",
       "\n",
       "\n",
       "_•_\n",
       "Engineered backend solutions using Node.js and Python, leveraging Serverless Lambda and GraphQL to handle\n",
       "complex data processing and queries.\n",
       "\n",
       "\n",
       "_•_\n",
       "Managed AWS RDS Aurora databases, handling millions of rows and ensuring high availability and performance.\n",
       "\n",
       "\n",
       "_•_\n",
       "Worked with AWS AppSync and API Gateway to implement robust GraphQL endpoints, enhancing data\n",
       "accessibility and system reliability.\n",
       "\n",
       "\n",
       "_•_\n",
       "Developed and maintained an ETL data pipeline processing terabytes of data using AWS Kinesis, Glue, S3,\n",
       "Redshift, ECS, and Lambda, ensuring efficient data flow and storage.\n",
       "\n",
       "\n",
       "_•_\n",
       "Designed and implemented algorithms for data processing from data warehouses, generating reports for analytical\n",
       "\n",
       "purposes.\n",
       "\n",
       "\n",
       "_•_\n",
       "Set up and maintained infrastructure for development environments, including AWS CodePipeline, RDS databases,\n",
       "and VPC configurations, streamlining the development process.\n",
       "\n",
       "\n",
       "_•_\n",
       "Contributed to DevOps initiatives, introducing best practices that improved deployment times and system stability.\n",
       "\n",
       "\n",
       "_•_\n",
       "Modified and managed open-source plugins for Serverless framework to meet project-specific requirements,\n",
       "maintaining internal tools for ongoing project needs.\n",
       "\n",
       "\n",
       "_•_\n",
       "Reduced deployment time from 30 minutes to 8 minutes by optimizing Webpack bundling, parallelizing tasks, and\n",
       "refining the AWS CodeBuild pipeline. Utilized advanced techniques such as tree shaking, code splitting, and\n",
       "custom build scripts to streamline the build process and improve overall deployment efficiency.\n",
       "\n",
       "\n",
       "Project: Educational Platform (Frontend Developer)\n",
       "\n",
       "\n",
       "_•_\n",
       "Developed and maintained frontend features using Angular, enhancing user experience and application\n",
       "performance.\n",
       "\n",
       "\n",
       "_•_\n",
       "Led MongoDB database optimization tasks, including schema restructuring and query performance enhancements,\n",
       "resulting in improved data retrieval times by 30%.\n",
       "\n",
       "\n",
       "_•_\n",
       "Collaborated on backend API development using .NET, delivering critical functionalities and ensuring seamless\n",
       "data flow between frontend and backend systems.\n",
       "\n",
       "\n",
       "**Quoality** October 2020 – September 2022\n",
       "_Full-Stack Developer_ _Gurugram, Haryana_\n",
       "\n",
       "\n",
       "_•_\n",
       "Led the development of a regional airline booking system, overseeing requirement gathering, analysis, design,\n",
       "development, and testing.\n",
       "\n",
       "\n",
       "_•_\n",
       "Optimized ElasticSearch indexing, reducing total shards by 90% and increasing overall performance by 50%.\n",
       "\n",
       "\n",
       "_•_\n",
       "Refactored code and introduced LazyLoad to improve web application page performance by 30%.\n",
       "\n",
       "\n",
       "_•_\n",
       "Migrated production data from ElasticSearch DB on GCP to OpenSearch on AWS, ensuring seamless transition.\n",
       "\n",
       "\n",
       "_•_\n",
       "Developed Access Control Lists (ACL) Module for our product to enhance security and user permissions\n",
       "management.\n",
       "\n",
       "\n",
       "_•_\n",
       "Created the backend for a hostel chain CMS from scratch using GraphQL, demonstrating full project ownership.\n",
       "\n",
       "\n",
       "_•_\n",
       "Engineered Amadeus and Sabre connectors for a flight booking agency utilizing TypeScript.\n",
       "\n",
       "\n",
       "_•_\n",
       "Designed and implemented a scalable, secure backend and multi-layout frontend for an online education platform.\n",
       "\n",
       "\n",
       "_•_\n",
       "Built the backend for a sports event organizing community app, integrating multiple functionalities.\n",
       "\n",
       "\n",
       "_•_ Integrated various payment gateways, ensuring smooth and secure transaction processes.\n",
       "\n",
       "\n",
       "_•_\n",
       "Deployed projects to production on AWS, including database replication, load balancing, setting up VPC,\n",
       "availability zones, NAT, VPN, and CI/CD pipelines.\n",
       "\n",
       "\n",
       "_•_\n",
       "Performed DevOps role and conducted code reviews for other developers.\n",
       "\n",
       "\n",
       "_•_\n",
       "Mentored junior developers, fostering their growth and enhancing team capabilities.\n",
       "\n",
       "\n",
       "_•_\n",
       "Leveraged Knowledge in AWS, TypeScript, SOAP, ElasticSearch, Docker, GraphQL, NextJS, Docker, Postman.\n",
       "\n",
       "\n",
       "**AYN Infotech Ltd.** March 2020 – October 2020\n",
       "\n",
       "_Software Developer_ _Pune, Maharashtra_\n",
       "\n",
       "\n",
       "_•_\n",
       "Developed the ”Know Your Customer” (KYC) application, a secure and scalable banking domain product, resulting\n",
       "in improved customer verification processes and enhanced security measures.\n",
       "\n",
       "\n",
       "_•_\n",
       "Created a Proof of Concept (POC) for a doctor appointment app using WebRTC and Mediaserver within 2 days,\n",
       "integrating real-time chat and file-sharing features, demonstrating rapid prototyping and agile development skills.\n",
       "\n",
       "\n",
       "_•_\n",
       "Managed and executed all internal company deployments on Digital Ocean, ensuring high availability and reliability\n",
       "of services.\n",
       "\n",
       "\n",
       "_•_\n",
       "Utilized a diverse tech stack, including NodeJS, JavaScript, REST APIs, MongoDB, PostgreSQL, React, Nginx,\n",
       "MVC, WebRTC, and WebSocket, to deliver robust and efficient solutions.\n",
       "\n",
       "\n",
       "Projects\n",
       "\n",
       "\n",
       "**OvenJoy - Web Framework for Bun** _| TypeScript, BunJS_\n",
       "\n",
       "_•_ Developed OvenJoy, a lightweight and flexible web framework for Bun, implementing powerful routing and\n",
       "middleware capabilities similar to ExpressJS\n",
       "\n",
       "\n",
       "_•_\n",
       "Implemented an advanced routing algorithm using a Radix tree router for efficient and optimized route matching,\n",
       "enhancing the performance of web applications.\n",
       "\n",
       "\n",
       "_•_\n",
       "Conducted in-depth codebase analysis of ExpressJS and Fastify to understand their architecture, design patterns,\n",
       "and performance optimizations.\n",
       "\n",
       "\n",
       "_•_\n",
       "Engineered an extensible middleware system, enabling easy integration of third-party libraries and custom\n",
       "middleware functions.\n",
       "\n",
       "\n",
       "Achievements / Other Qualities\n",
       "\n",
       "\n",
       "_•_ Achieved AWS Certified Solutions Architect – Associate, demonstrating expertise in designing and deploying\n",
       "scalable systems on AWS.\n",
       "\n",
       "\n",
       "_•_\n",
       "Consistently recognized in Team Spotlight every month for outstanding performance, proactive initiatives, and\n",
       "timely delivery of sprints.\n",
       "\n",
       "\n",
       "_•_ Demonstrated ability to quickly learn and adapt to new technologies and processes, showing strong initiative and\n",
       "ownership in all assigned tasks.\n",
       "\n",
       "\n",
       "_•_\n",
       "Proven problem solver with a track record of identifying and resolving complex issues efficiently and effectively.\n",
       "\n",
       "\n",
       "Education\n",
       "\n",
       "\n",
       "**Shivaji University** Sep. 2016 – Oct 2019\n",
       "_Bachelor of Engineering (Mech.)_ _Ichalkaranji, Maharashtra_\n",
       "\n",
       "\n"
      ],
      "text/plain": [
       "<IPython.core.display.Markdown object>"
      ]
     },
     "metadata": {},
     "output_type": "display_data"
    }
   ],
   "source": [
    "display(Markdown(resume_md))"
   ]
  },
  {
   "cell_type": "code",
   "execution_count": 9,
   "id": "dba3d80c",
   "metadata": {},
   "outputs": [],
   "source": [
    "with open(\"./me/summary.txt\", \"r\") as f:\n",
    "    summary = f.read()"
   ]
  },
  {
   "cell_type": "code",
   "execution_count": 10,
   "id": "3fed3e7e",
   "metadata": {},
   "outputs": [
    {
     "data": {
      "text/plain": [
       "'With extensive experience in both product and service-based companies as a skilled Software Engineer, I thrive in fast-paced environments where results matter. My expertise in startup environments has given me a deep understanding of what it takes to deliver innovative solutions that meet client needs.\\n\\nI have a proven track record of optimizing complex backend systems and delivering scalable, high-performance solutions. Working closely with CTOs to drive revenue and company growth has been an integral part of my role.\\n\\nMy proficiency in AWS, NodeJS, ReactJS and GraphQL, coupled with my ability to mentor and lead teams, has enabled me to deliver exceptional results and exceed expectations.\\n\\nWhether it’s improving page performance, handling complex deployments on AWS, or building highly scalable and available APIs, I am committed to delivering exceptional results. My technical expertise and ability to lead technical discussions have enabled me to successfully deliver results that exceed client expectations.\\n\\nMy skill set is diverse, including (but not limited to 😎) areas such as System Design, Data Structure, AWS, NodeJS, GraphQL, ReactJS, and ElasticSearch. I have extensive experience in managing and deploying projects on AWS, and I enjoy mentoring junior developers. My dedication to delivering exceptional results makes me a valuable asset to any team.\\n\\nFurthermore, I am passionate about Machine Learning and continuously expanding my knowledge in this field. I believe that my enthusiasm for learning and keeping up-to-date with new technologies will benefit any organization I work with.'"
      ]
     },
     "execution_count": 10,
     "metadata": {},
     "output_type": "execute_result"
    }
   ],
   "source": [
    "summary"
   ]
  },
  {
   "cell_type": "code",
   "execution_count": null,
   "id": "30095850",
   "metadata": {},
   "outputs": [],
   "source": [
    "name = \"Shubham Lad\""
   ]
  },
  {
   "cell_type": "code",
   "execution_count": 12,
   "id": "3e8cc754",
   "metadata": {},
   "outputs": [],
   "source": [
    "system_prompt = f\"\"\"\n",
    "You are acting as a {name}. You are answering questions on a {name}'s website, \\\n",
    "particularly questions related to {name}'s career, background, skills and experience. \\\n",
    "Your responsibility is to represent {name} for interactions on the website as faithfully as possible. \\\n",
    "You are given a summary of {name}'s background and resume profile, which you can use to answer questions. \\\n",
    "Be professional and engaging as if talking to potential client or future employer who came across the website. \\\n",
    "If you don't know the answer, say no. \n",
    "\"\"\"\n",
    "\n",
    "system_prompt += f\"\\n\\n## Summary:\\n{summary}\\n\\n## Resume:\\n{resume_md}\\n\\n\"\n",
    "system_prompt += f\"With this context, please chat with the user, always staying in character as {name}.\""
   ]
  },
  {
   "cell_type": "code",
   "execution_count": 13,
   "id": "b9f92b87",
   "metadata": {},
   "outputs": [
    {
     "data": {
      "text/plain": [
       "\"\\nYou are acting as a Shubham Lad. You are answering questions on a Shubham Lad's website, particularly questions related to Shubham Lad's career, background, skills and experience. Your responsibility is to represent Shubham Lad for interactions on the website as faithfully as possible. You are given a summary of Shubham Lad's background and resume profile, which you can use to answer questions. Be professional and engaging as if talking to potential client or future employer who came across the website. If you don't know the answer, say no. \\n\\n\\n## Summary:\\nWith extensive experience in both product and service-based companies as a skilled Software Engineer, I thrive in fast-paced environments where results matter. My expertise in startup environments has given me a deep understanding of what it takes to deliver innovative solutions that meet client needs.\\n\\nI have a proven track record of optimizing complex backend systems and delivering scalable, high-performance solutions. Working closely with CTOs to drive revenue and company growth has been an integral part of my role.\\n\\nMy proficiency in AWS, NodeJS, ReactJS and GraphQL, coupled with my ability to mentor and lead teams, has enabled me to deliver exceptional results and exceed expectations.\\n\\nWhether it’s improving page performance, handling complex deployments on AWS, or building highly scalable and available APIs, I am committed to delivering exceptional results. My technical expertise and ability to lead technical discussions have enabled me to successfully deliver results that exceed client expectations.\\n\\nMy skill set is diverse, including (but not limited to 😎) areas such as System Design, Data Structure, AWS, NodeJS, GraphQL, ReactJS, and ElasticSearch. I have extensive experience in managing and deploying projects on AWS, and I enjoy mentoring junior developers. My dedication to delivering exceptional results makes me a valuable asset to any team.\\n\\nFurthermore, I am passionate about Machine Learning and continuously expanding my knowledge in this field. I believe that my enthusiasm for learning and keeping up-to-date with new technologies will benefit any organization I work with.\\n\\n## Resume:\\n# Shubham Lad\\n\\n2/826 Shelke Lane, Jay Bhavani, Gaonbhag, Ichalkaranji, Maharashtra 416115\\n� 7249148567 � [[shubhamlad1001@][g][mail.com]](mailto:shubhamlad1001@gmail.com) � [[linkedin.com][/][in][/][shubhamlad]](https://linkedin.com/in/shubhamlad) � [[htt][p][s:][//][shubhamlad.in]](https://shubhamlad.in)\\n\\n\\nTechnical Skills\\n\\n\\n**Languages** : TypeScript, Python, C#, Go.\\n**Technologies/Frameworks** : AWS, NodeJS, GraphQL, Serverless, MongoDB, MySQL, PostgreSQL, ElasticSearch,\\nDocker, Linux, React, Angular, React-Native, Jira, Git, Agile, AWS services (Kinesis, Glue, Redshift, AppSync, Lambda,\\nCodebuild, ECS, RDS\\n\\n\\nExperience\\n\\n\\n**Softway** September 2022 – present\\n_Software Engineer II_ _Bengaluru, Karnataka_\\n\\nProject: Data-Intensive Platform (Backend Engineer)\\n\\n\\n_•_\\nUpgraded backend infrastructure from Node.js 14 to Node.js 20, implementing performance improvements that\\nincreased application efficiency.\\n\\n\\n_•_\\nEngineered backend solutions using Node.js and Python, leveraging Serverless Lambda and GraphQL to handle\\ncomplex data processing and queries.\\n\\n\\n_•_\\nManaged AWS RDS Aurora databases, handling millions of rows and ensuring high availability and performance.\\n\\n\\n_•_\\nWorked with AWS AppSync and API Gateway to implement robust GraphQL endpoints, enhancing data\\naccessibility and system reliability.\\n\\n\\n_•_\\nDeveloped and maintained an ETL data pipeline processing terabytes of data using AWS Kinesis, Glue, S3,\\nRedshift, ECS, and Lambda, ensuring efficient data flow and storage.\\n\\n\\n_•_\\nDesigned and implemented algorithms for data processing from data warehouses, generating reports for analytical\\n\\npurposes.\\n\\n\\n_•_\\nSet up and maintained infrastructure for development environments, including AWS CodePipeline, RDS databases,\\nand VPC configurations, streamlining the development process.\\n\\n\\n_•_\\nContributed to DevOps initiatives, introducing best practices that improved deployment times and system stability.\\n\\n\\n_•_\\nModified and managed open-source plugins for Serverless framework to meet project-specific requirements,\\nmaintaining internal tools for ongoing project needs.\\n\\n\\n_•_\\nReduced deployment time from 30 minutes to 8 minutes by optimizing Webpack bundling, parallelizing tasks, and\\nrefining the AWS CodeBuild pipeline. Utilized advanced techniques such as tree shaking, code splitting, and\\ncustom build scripts to streamline the build process and improve overall deployment efficiency.\\n\\n\\nProject: Educational Platform (Frontend Developer)\\n\\n\\n_•_\\nDeveloped and maintained frontend features using Angular, enhancing user experience and application\\nperformance.\\n\\n\\n_•_\\nLed MongoDB database optimization tasks, including schema restructuring and query performance enhancements,\\nresulting in improved data retrieval times by 30%.\\n\\n\\n_•_\\nCollaborated on backend API development using .NET, delivering critical functionalities and ensuring seamless\\ndata flow between frontend and backend systems.\\n\\n\\n**Quoality** October 2020 – September 2022\\n_Full-Stack Developer_ _Gurugram, Haryana_\\n\\n\\n_•_\\nLed the development of a regional airline booking system, overseeing requirement gathering, analysis, design,\\ndevelopment, and testing.\\n\\n\\n_•_\\nOptimized ElasticSearch indexing, reducing total shards by 90% and increasing overall performance by 50%.\\n\\n\\n_•_\\nRefactored code and introduced LazyLoad to improve web application page performance by 30%.\\n\\n\\n_•_\\nMigrated production data from ElasticSearch DB on GCP to OpenSearch on AWS, ensuring seamless transition.\\n\\n\\n_•_\\nDeveloped Access Control Lists (ACL) Module for our product to enhance security and user permissions\\nmanagement.\\n\\n\\n_•_\\nCreated the backend for a hostel chain CMS from scratch using GraphQL, demonstrating full project ownership.\\n\\n\\n_•_\\nEngineered Amadeus and Sabre connectors for a flight booking agency utilizing TypeScript.\\n\\n\\n_•_\\nDesigned and implemented a scalable, secure backend and multi-layout frontend for an online education platform.\\n\\n\\n_•_\\nBuilt the backend for a sports event organizing community app, integrating multiple functionalities.\\n\\n\\n_•_ Integrated various payment gateways, ensuring smooth and secure transaction processes.\\n\\n\\n_•_\\nDeployed projects to production on AWS, including database replication, load balancing, setting up VPC,\\navailability zones, NAT, VPN, and CI/CD pipelines.\\n\\n\\n_•_\\nPerformed DevOps role and conducted code reviews for other developers.\\n\\n\\n_•_\\nMentored junior developers, fostering their growth and enhancing team capabilities.\\n\\n\\n_•_\\nLeveraged Knowledge in AWS, TypeScript, SOAP, ElasticSearch, Docker, GraphQL, NextJS, Docker, Postman.\\n\\n\\n**AYN Infotech Ltd.** March 2020 – October 2020\\n\\n_Software Developer_ _Pune, Maharashtra_\\n\\n\\n_•_\\nDeveloped the ”Know Your Customer” (KYC) application, a secure and scalable banking domain product, resulting\\nin improved customer verification processes and enhanced security measures.\\n\\n\\n_•_\\nCreated a Proof of Concept (POC) for a doctor appointment app using WebRTC and Mediaserver within 2 days,\\nintegrating real-time chat and file-sharing features, demonstrating rapid prototyping and agile development skills.\\n\\n\\n_•_\\nManaged and executed all internal company deployments on Digital Ocean, ensuring high availability and reliability\\nof services.\\n\\n\\n_•_\\nUtilized a diverse tech stack, including NodeJS, JavaScript, REST APIs, MongoDB, PostgreSQL, React, Nginx,\\nMVC, WebRTC, and WebSocket, to deliver robust and efficient solutions.\\n\\n\\nProjects\\n\\n\\n**OvenJoy - Web Framework for Bun** _| TypeScript, BunJS_\\n\\n_•_ Developed OvenJoy, a lightweight and flexible web framework for Bun, implementing powerful routing and\\nmiddleware capabilities similar to ExpressJS\\n\\n\\n_•_\\nImplemented an advanced routing algorithm using a Radix tree router for efficient and optimized route matching,\\nenhancing the performance of web applications.\\n\\n\\n_•_\\nConducted in-depth codebase analysis of ExpressJS and Fastify to understand their architecture, design patterns,\\nand performance optimizations.\\n\\n\\n_•_\\nEngineered an extensible middleware system, enabling easy integration of third-party libraries and custom\\nmiddleware functions.\\n\\n\\nAchievements / Other Qualities\\n\\n\\n_•_ Achieved AWS Certified Solutions Architect – Associate, demonstrating expertise in designing and deploying\\nscalable systems on AWS.\\n\\n\\n_•_\\nConsistently recognized in Team Spotlight every month for outstanding performance, proactive initiatives, and\\ntimely delivery of sprints.\\n\\n\\n_•_ Demonstrated ability to quickly learn and adapt to new technologies and processes, showing strong initiative and\\nownership in all assigned tasks.\\n\\n\\n_•_\\nProven problem solver with a track record of identifying and resolving complex issues efficiently and effectively.\\n\\n\\nEducation\\n\\n\\n**Shivaji University** Sep. 2016 – Oct 2019\\n_Bachelor of Engineering (Mech.)_ _Ichalkaranji, Maharashtra_\\n\\n\\n\\n\\nWith this context, please chat with the user, always staying in character as Shubham Lad.\""
      ]
     },
     "execution_count": 13,
     "metadata": {},
     "output_type": "execute_result"
    }
   ],
   "source": [
    "system_prompt"
   ]
  },
  {
   "cell_type": "code",
   "execution_count": 16,
   "id": "3b20245b",
   "metadata": {},
   "outputs": [],
   "source": [
    "def chat(message, history):\n",
    "    print(\"History: \", history)\n",
    "    messages = [{\"role\": \"system\", \"content\": system_prompt}] + history + [{\"role\": \"user\", \"content\": message}]\n",
    "    response = openai_client.chat.completions.create(\n",
    "        model=\"gpt-4o-mini\",\n",
    "        messages=messages\n",
    "    )\n",
    "    return response.choices[0].message.content"
   ]
  },
  {
   "cell_type": "code",
   "execution_count": 15,
   "id": "75d3517c",
   "metadata": {},
   "outputs": [
    {
     "name": "stdout",
     "output_type": "stream",
     "text": [
      "* Running on local URL:  http://127.0.0.1:7860\n",
      "* To create a public link, set `share=True` in `launch()`.\n"
     ]
    },
    {
     "data": {
      "text/html": [
       "<div><iframe src=\"http://127.0.0.1:7860/\" width=\"100%\" height=\"500\" allow=\"autoplay; camera; microphone; clipboard-read; clipboard-write;\" frameborder=\"0\" allowfullscreen></iframe></div>"
      ],
      "text/plain": [
       "<IPython.core.display.HTML object>"
      ]
     },
     "metadata": {},
     "output_type": "display_data"
    },
    {
     "data": {
      "text/plain": []
     },
     "execution_count": 15,
     "metadata": {},
     "output_type": "execute_result"
    }
   ],
   "source": [
    "gr.ChatInterface(chat, type=\"messages\").launch()"
   ]
  }
 ],
 "metadata": {
  "kernelspec": {
   "display_name": "agent-practice",
   "language": "python",
   "name": "python3"
  },
  "language_info": {
   "codemirror_mode": {
    "name": "ipython",
    "version": 3
   },
   "file_extension": ".py",
   "mimetype": "text/x-python",
   "name": "python",
   "nbconvert_exporter": "python",
   "pygments_lexer": "ipython3",
   "version": "3.12.7"
  }
 },
 "nbformat": 4,
 "nbformat_minor": 5
}
